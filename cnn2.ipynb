{
 "cells": [
  {
   "cell_type": "code",
   "execution_count": 6,
   "id": "47f343e8",
   "metadata": {},
   "outputs": [],
   "source": [
    "# CNN으로 MNIST 분류 문제 풀기\n",
    "import cnn_model\n",
    "import keras\n",
    "import matplotlib.pyplot as plt\n",
    "import numpy as np\n",
    "from sklearn.model_selection import train_test_split\n",
    "import cv2"
   ]
  },
  {
   "cell_type": "code",
   "execution_count": 7,
   "id": "743fff13",
   "metadata": {},
   "outputs": [],
   "source": [
    "# 입력과 출력 지정하기\n",
    "im_rows = 32 # 이미지의 높이\n",
    "im_cols = 32 # 이미지의 너비\n",
    "im_color = 3 # 이미지의 색공간\n",
    "in_shape = (im_rows, im_cols, im_color)\n",
    "nb_classes = 3"
   ]
  },
  {
   "cell_type": "code",
   "execution_count": 8,
   "id": "f94c643f",
   "metadata": {},
   "outputs": [],
   "source": [
    "# 사진 데이터 읽어 들이기\n",
    "photos = np.load('image/photos.npz')\n",
    "x = photos['x']\n",
    "y = photos['y']"
   ]
  },
  {
   "cell_type": "code",
   "execution_count": 9,
   "id": "7259e2c8",
   "metadata": {},
   "outputs": [],
   "source": [
    "# 읽어들인 데이터를 3차원 배열로 변환하기\n",
    "x = x.reshape(-1, im_rows, im_cols, im_color)\n",
    "x = x.astype('float32') / 255\n",
    "# 레이블 데이터를 One-hot 형식으로 변환하기\n",
    "y = keras.utils.np_utils.to_categorical(y.astype('int32'), nb_classes)\n",
    "\n",
    "# 학습 전용과 테스트 전용으로 구분하기\n",
    "x_train, x_test, y_train, y_test = train_test_split(\n",
    "    x, y, train_size=0.8)"
   ]
  },
  {
   "cell_type": "code",
   "execution_count": 10,
   "id": "a23da87f",
   "metadata": {},
   "outputs": [],
   "source": [
    "\n",
    "# 학습 전용 데이터 수 늘리기 --- (*1)\n",
    "x_new = []\n",
    "y_new = []\n",
    "for i, xi in enumerate(x_train):\n",
    "    yi = y_train[i]\n",
    "    for ang in range(-30, 30, 5):\n",
    "        # 회전 시키기 --- (*2)\n",
    "        center = (16, 16) # 회전 중심\n",
    "        mtx = cv2.getRotationMatrix2D(center, ang, 1.0)\n",
    "        xi2 = cv2.warpAffine(xi, mtx, (32, 32))\n",
    "        x_new.append(xi2)\n",
    "        y_new.append(yi)\n",
    "        # 좌우 반전 --- (*3)\n",
    "        xi3 = cv2.flip(xi2, 1)\n",
    "        x_new.append(xi3)\n",
    "        y_new.append(yi)"
   ]
  },
  {
   "cell_type": "code",
   "execution_count": 11,
   "id": "479cc53a",
   "metadata": {},
   "outputs": [
    {
     "name": "stdout",
     "output_type": "stream",
     "text": [
      "수량을 늘리기 전= 240\n",
      "수량을 늘린 후= 5760\n"
     ]
    }
   ],
   "source": [
    "# 이미지를 늘린 데이터를 학습 데이터로 사용하기\n",
    "print('수량을 늘리기 전=', len(y_train))\n",
    "x_train = np.array(x_new)\n",
    "y_train = np.array(y_new)\n",
    "print('수량을 늘린 후=', len(y_train))"
   ]
  },
  {
   "cell_type": "code",
   "execution_count": null,
   "id": "62e5287f",
   "metadata": {},
   "outputs": [],
   "source": []
  }
 ],
 "metadata": {
  "kernelspec": {
   "display_name": "Python 3",
   "language": "python",
   "name": "python3"
  },
  "language_info": {
   "codemirror_mode": {
    "name": "ipython",
    "version": 3
   },
   "file_extension": ".py",
   "mimetype": "text/x-python",
   "name": "python",
   "nbconvert_exporter": "python",
   "pygments_lexer": "ipython3",
   "version": "3.8.8"
  }
 },
 "nbformat": 4,
 "nbformat_minor": 5
}
