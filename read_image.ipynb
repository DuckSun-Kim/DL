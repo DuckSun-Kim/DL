{
 "cells": [
  {
   "cell_type": "code",
   "execution_count": 1,
   "id": "2b41a13c",
   "metadata": {},
   "outputs": [],
   "source": [
    "# 이미지들을 NumPy 형식으로 변환하기\n",
    "import numpy as np\n",
    "from PIL import Image\n",
    "import os, glob, random"
   ]
  },
  {
   "cell_type": "code",
   "execution_count": 2,
   "id": "adb30cfc",
   "metadata": {},
   "outputs": [],
   "source": [
    "outfile = \"image/photos.npz\" # 저장할 파일 이름\n",
    "max_photo = 100 # 사용할 장 수\n",
    "photo_size = 32 # 이미지 크기\n",
    "x = [] # 이미지 데이터\n",
    "y = [] # 레이블 데이터"
   ]
  },
  {
   "cell_type": "code",
   "execution_count": 3,
   "id": "e47681d3",
   "metadata": {},
   "outputs": [],
   "source": [
    "def main():\n",
    "    # 디렉터리 읽어 들이기 --- (*1)\n",
    "    glob_files(\"./image/burger\", 0)\n",
    "    glob_files(\"./image/kimbab\", 1)\n",
    "    glob_files(\"./image/ramen\", 2)\n",
    "    # 파일로 저장하기 --- (*2)\n",
    "    np.savez(outfile, x=x, y=y)\n",
    "    print(\"저장했습니다:\" + outfile, len(x))"
   ]
  },
  {
   "cell_type": "code",
   "execution_count": 4,
   "id": "6807647e",
   "metadata": {},
   "outputs": [],
   "source": [
    "# path 내부의 이미지 읽어 들이기 --- (*3)\n",
    "def glob_files(path, label):\n",
    "    files = glob.glob(path + \"/*.jpg\")\n",
    "    random.shuffle(files)\n",
    "    # 파일 처리하기\n",
    "    num = 0\n",
    "    for f in files:\n",
    "        if num >= max_photo: break\n",
    "        num += 1\n",
    "        # 이미지 파일 읽어 들이기\n",
    "        img = Image.open(f)\n",
    "        img = img.convert(\"RGB\") # 색공간 변환하기\n",
    "        img = img.resize((photo_size, photo_size)) # 크기 변경하기\n",
    "        img = np.asarray(img)\n",
    "        x.append(img)\n",
    "        y.append(label)"
   ]
  },
  {
   "cell_type": "code",
   "execution_count": 5,
   "id": "bdf7a54c",
   "metadata": {},
   "outputs": [
    {
     "name": "stdout",
     "output_type": "stream",
     "text": [
      "저장했습니다:image/photos.npz 300\n"
     ]
    }
   ],
   "source": [
    "if __name__ == '__main__':\n",
    "    main()"
   ]
  },
  {
   "cell_type": "code",
   "execution_count": null,
   "id": "756b988a",
   "metadata": {},
   "outputs": [],
   "source": []
  }
 ],
 "metadata": {
  "kernelspec": {
   "display_name": "Python 3",
   "language": "python",
   "name": "python3"
  },
  "language_info": {
   "codemirror_mode": {
    "name": "ipython",
    "version": 3
   },
   "file_extension": ".py",
   "mimetype": "text/x-python",
   "name": "python",
   "nbconvert_exporter": "python",
   "pygments_lexer": "ipython3",
   "version": "3.8.8"
  }
 },
 "nbformat": 4,
 "nbformat_minor": 5
}
